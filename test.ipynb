{
 "cells": [
  {
   "cell_type": "code",
   "execution_count": 5,
   "metadata": {},
   "outputs": [
    {
     "name": "stdout",
     "output_type": "stream",
     "text": [
      "File uploaded to gs://srobb-datathon/test/hello.txt\n"
     ]
    }
   ],
   "source": [
    "from google.cloud import storage\n",
    "\n",
    "# your bucket name\n",
    "bucket_name = \"srobb-datathon\"\n",
    "destination_blob_name = \"test/hello.txt\"\n",
    "file_contents = \"This is a test file from Ash's desktop. Lady helped!\"\n",
    "\n",
    "# initialize the client\n",
    "client = storage.Client()\n",
    "bucket = client.bucket(bucket_name)\n",
    "\n",
    "# create and upload the blob\n",
    "blob = bucket.blob(destination_blob_name)\n",
    "blob.upload_from_string(file_contents)\n",
    "\n",
    "print(f\"File uploaded to gs://{bucket_name}/{destination_blob_name}\")"
   ]
  },
  {
   "cell_type": "code",
   "execution_count": 6,
   "metadata": {},
   "outputs": [
    {
     "name": "stdout",
     "output_type": "stream",
     "text": [
      "hello-from-notebook.txt deleted.\n"
     ]
    }
   ],
   "source": [
    "blob.delete()\n",
    "print(\"hello-from-notebook.txt deleted.\")"
   ]
  }
 ],
 "metadata": {
  "kernelspec": {
   "display_name": "dtenv",
   "language": "python",
   "name": "python3"
  },
  "language_info": {
   "codemirror_mode": {
    "name": "ipython",
    "version": 3
   },
   "file_extension": ".py",
   "mimetype": "text/x-python",
   "name": "python",
   "nbconvert_exporter": "python",
   "pygments_lexer": "ipython3",
   "version": "3.12.4"
  }
 },
 "nbformat": 4,
 "nbformat_minor": 2
}
